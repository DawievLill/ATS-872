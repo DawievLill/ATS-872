{
 "cells": [
  {
   "cell_type": "markdown",
   "metadata": {},
   "source": [
    "# Loading and visualizing time series data"
   ]
  },
  {
   "cell_type": "markdown",
   "metadata": {},
   "source": [
    "David Childers R code for forecasting course."
   ]
  },
  {
   "cell_type": "code",
   "execution_count": 2,
   "metadata": {
    "vscode": {
     "languageId": "r"
    }
   },
   "outputs": [
    {
     "name": "stderr",
     "output_type": "stream",
     "text": [
      "Installing package into 'C:/Users/Dawie/Documents/R/win-library/4.1'\n",
      "(as 'lib' is unspecified)\n",
      "\n",
      "also installing the dependencies 'expsmooth', 'fma'\n",
      "\n",
      "\n"
     ]
    },
    {
     "name": "stdout",
     "output_type": "stream",
     "text": [
      "package 'expsmooth' successfully unpacked and MD5 sums checked\n",
      "package 'fma' successfully unpacked and MD5 sums checked\n",
      "package 'fpp2' successfully unpacked and MD5 sums checked\n",
      "\n",
      "The downloaded binary packages are in\n",
      "\tC:\\Users\\Dawie\\AppData\\Local\\Temp\\RtmpYpwsMb\\downloaded_packages\n"
     ]
    }
   ],
   "source": [
    "install.packages(\"fpp2\")"
   ]
  },
  {
   "cell_type": "code",
   "execution_count": 3,
   "metadata": {
    "vscode": {
     "languageId": "r"
    }
   },
   "outputs": [
    {
     "name": "stderr",
     "output_type": "stream",
     "text": [
      "Warning message:\n",
      "\"package 'fpp2' was built under R version 4.1.3\"\n",
      "Registered S3 method overwritten by 'quantmod':\n",
      "  method            from\n",
      "  as.zoo.data.frame zoo \n",
      "\n",
      "-- \u001b[1mAttaching packages\u001b[22m ---------------------------------------------- fpp2 2.4 --\n",
      "\n",
      "\u001b[32mv\u001b[39m \u001b[34mggplot2  \u001b[39m 3.3.5     \u001b[32mv\u001b[39m \u001b[34mfma      \u001b[39m 2.4  \n",
      "\u001b[32mv\u001b[39m \u001b[34mforecast \u001b[39m 8.16      \u001b[32mv\u001b[39m \u001b[34mexpsmooth\u001b[39m 2.3  \n",
      "\n",
      "Warning message:\n",
      "\"package 'fma' was built under R version 4.1.3\"\n",
      "Warning message:\n",
      "\"package 'expsmooth' was built under R version 4.1.3\"\n",
      "\n",
      "\n"
     ]
    }
   ],
   "source": [
    "library(fpp2)"
   ]
  },
  {
   "cell_type": "code",
   "execution_count": 4,
   "metadata": {
    "vscode": {
     "languageId": "r"
    }
   },
   "outputs": [
    {
     "name": "stderr",
     "output_type": "stream",
     "text": [
      "Warning message in data(airpass):\n",
      "\"data set 'airpass' not found\"\n"
     ]
    }
   ],
   "source": [
    "fedfunds <- read.csv(\"../input/FEDFUNDS.csv\")"
   ]
  },
  {
   "cell_type": "code",
   "execution_count": null,
   "metadata": {
    "vscode": {
     "languageId": "r"
    }
   },
   "outputs": [],
   "source": []
  }
 ],
 "metadata": {
  "kernelspec": {
   "display_name": "R",
   "language": "R",
   "name": "ir"
  },
  "language_info": {
   "codemirror_mode": "r",
   "file_extension": ".r",
   "mimetype": "text/x-r-source",
   "name": "R",
   "pygments_lexer": "r",
   "version": "4.1.2"
  },
  "orig_nbformat": 4,
  "vscode": {
   "interpreter": {
    "hash": "d005ab070b7631a98d1f763ee4fde04aee6913e1dc6e00da282acfd007f249f8"
   }
  }
 },
 "nbformat": 4,
 "nbformat_minor": 2
}
